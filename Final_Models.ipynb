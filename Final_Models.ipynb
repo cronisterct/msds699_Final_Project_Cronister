{
 "cells": [
  {
   "cell_type": "code",
   "execution_count": 29,
   "id": "civilian-bracket",
   "metadata": {},
   "outputs": [],
   "source": [
    "import pandas as pd\n",
    "import numpy as np\n",
    "! pip install -q category_encoders # For google colab\n",
    "\n",
    "from   category_encoders       import *\n",
    "from sklearn.pipeline import Pipeline\n",
    "from sklearn.linear_model import LinearRegression\n",
    "from sklearn.model_selection import train_test_split\n",
    "from sklearn.ensemble import RandomForestRegressor\n",
    "from sklearn.datasets import make_regression\n",
    "from   sklearn.compose         import *\n",
    "from   sklearn.experimental    import enable_iterative_imputer\n",
    "from   sklearn.impute          import *\n",
    "from   sklearn.metrics         import * \n",
    "from   sklearn.preprocessing   import *\n",
    "from sklearn.model_selection import KFold\n",
    "from sklearn.model_selection import RandomizedSearchCV\n",
    "from sklearn.compose import TransformedTargetRegressor\n",
    "from sklearn.decomposition import PCA\n",
    "import matplotlib.pyplot as plt\n",
    "from sklearn.inspection import permutation_importance\n",
    "from sklearn.linear_model  import Lasso, Ridge, ElasticNet, HuberRegressor, BayesianRidge\n",
    "\n",
    "\n",
    "import warnings\n",
    "warnings.filterwarnings('ignore')\n",
    "import joblib"
   ]
  },
  {
   "cell_type": "markdown",
   "id": "obvious-richards",
   "metadata": {},
   "source": [
    "[![Open In Colab](https://colab.research.google.com/assets/colab-badge.svg)](https://colab.research.google.com/github/cronisterct/msds699_Final_Project_Cronister/blob/main/Final_Models.ipynb)"
   ]
  },
  {
   "cell_type": "code",
   "execution_count": 30,
   "id": "designing-fence",
   "metadata": {},
   "outputs": [],
   "source": [
    "df = pd.read_csv('https://raw.githubusercontent.com/cronisterct/msds699_Final_Project_Cronister/main/NCAA_data.csv')"
   ]
  },
  {
   "cell_type": "markdown",
   "id": "coral-dodge",
   "metadata": {},
   "source": [
    "# Splitting Data\n",
    "Split off 10% of data for test set and save for later"
   ]
  },
  {
   "cell_type": "code",
   "execution_count": 31,
   "id": "residential-resistance",
   "metadata": {},
   "outputs": [],
   "source": [
    "test = df.sample(frac=.1, random_state=23)\n",
    "\n",
    "train = df[~df.index.isin(test.index)]\n",
    "\n",
    "X = train[['SCHOOL_TYPE',\n",
    "       'SPORT_CODE', 'NCAA_DIVISION', 'NCAA_SUBDIVISION',\n",
    "       'NCAA_CONFERENCE',\n",
    "       'FOURYEAR_ELIGIBILITY']]\n",
    "y = train['FOURYEAR_RETENTION']\n",
    "\n",
    "X_train, X_validation, y_train, y_validation = train_test_split(X, y, test_size=.2)"
   ]
  },
  {
   "cell_type": "markdown",
   "id": "sorted-portrait",
   "metadata": {},
   "source": [
    "# Feature Engineering"
   ]
  },
  {
   "cell_type": "markdown",
   "id": "applied-cycling",
   "metadata": {},
   "source": [
    "While there are no missing values in this dataset, I wanted to include Simple Imputer in my pipeline for my deployment incase someone tries to pass data that is missing a value. I wanted to use a min max scaler on the continuous data so that it was consistent and to 'pull in' outliers. Additionally, I added a one hot encoder to my preprocessing pipeline so that the categorical variables could be properly transformed for my models. "
   ]
  },
  {
   "cell_type": "code",
   "execution_count": 32,
   "id": "needed-jacket",
   "metadata": {},
   "outputs": [],
   "source": [
    "categorical_columns = ['NCAA_CONFERENCE','SCHOOL_TYPE','NCAA_SUBDIVISION', 'SPORT_CODE', 'NCAA_DIVISION']\n",
    "numerical_columns = ['FOURYEAR_ELIGIBILITY']\n",
    "\n",
    "\n",
    "con_pipe = Pipeline([('scaler', MinMaxScaler()),\n",
    "                      ('imputer', SimpleImputer(strategy='median', add_indicator=True))])\n",
    "\n",
    "cat_pipe = Pipeline([('ohe', OneHotEncoder(handle_unknown='ignore')),\n",
    "                     ('imputer', SimpleImputer(strategy='most_frequent', add_indicator=True))])\n",
    "\n",
    "preprocessing = ColumnTransformer([('categorical', cat_pipe,  categorical_columns),\n",
    "                                   ('continuous',  con_pipe, numerical_columns),\n",
    "                                   ])"
   ]
  },
  {
   "cell_type": "markdown",
   "id": "answering-nepal",
   "metadata": {},
   "source": [
    "# Choose two algorithms"
   ]
  },
  {
   "cell_type": "markdown",
   "id": "blessed-corpus",
   "metadata": {},
   "source": [
    "I began by picking 5 regressor algorithms we had seen in class and I wanted to pick two of them based off their MAE and MSE with no hyperparameter tuning.   "
   ]
  },
  {
   "cell_type": "code",
   "execution_count": 33,
   "id": "surrounded-georgia",
   "metadata": {},
   "outputs": [
    {
     "name": "stdout",
     "output_type": "stream",
     "text": [
      "LinearRegression  - mean squared error: 0.00035875495456545487\n",
      "LinearRegression  - mean absolute error: 0.013827059849569398\n",
      "Lasso             - mean squared error: 0.0005984979905074329\n",
      "Lasso             - mean absolute error: 0.01921080619475491\n",
      "Ridge             - mean squared error: 0.000357856361799426\n",
      "Ridge             - mean absolute error: 0.013866108282939655\n",
      "ElasticNet        - mean squared error: 0.0005984979905074329\n",
      "ElasticNet        - mean absolute error: 0.01921080619475491\n",
      "RandomForestRegressor - mean squared error: 0.00039541283471000054\n",
      "RandomForestRegressor - mean absolute error: 0.014236383759813434\n"
     ]
    }
   ],
   "source": [
    "algorithms = [LinearRegression(), Lasso(), Ridge(), ElasticNet(), \n",
    "               RandomForestRegressor()]\n",
    "\n",
    "for algo in algorithms:\n",
    "    pipe = Pipeline([('preprocessing', preprocessing), \n",
    "                     ('lm',     algo)])\n",
    "\n",
    "    pipe.fit(X_train, y_train)\n",
    "    y_pred = pipe.predict(X_validation)\n",
    "    mse = mean_squared_error(y_validation, y_pred)\n",
    "    mae = mean_absolute_error(y_validation, y_pred)\n",
    "    print(f\"{algo.__class__.__name__:<17} - mean squared error: {mse}\")\n",
    "    print(f\"{algo.__class__.__name__:<17} - mean absolute error: {mae}\")"
   ]
  },
  {
   "cell_type": "markdown",
   "id": "effective-romantic",
   "metadata": {},
   "source": [
    "I chose Linear Regression and Random Forest Regressor as these give us the lowest MSE and MAE without hyperparameter tuning. "
   ]
  },
  {
   "cell_type": "markdown",
   "id": "terminal-swaziland",
   "metadata": {},
   "source": [
    "# Linear Regression"
   ]
  },
  {
   "cell_type": "markdown",
   "id": "enclosed-silence",
   "metadata": {},
   "source": [
    "I first chose to tune a linear regression model using a random search cross validation as it is faster than a grid search while still finding optimal hyperparameters for the model. "
   ]
  },
  {
   "cell_type": "code",
   "execution_count": 34,
   "id": "raising-telescope",
   "metadata": {},
   "outputs": [
    {
     "name": "stdout",
     "output_type": "stream",
     "text": [
      "Fitting 5 folds for each of 13 candidates, totalling 65 fits\n"
     ]
    },
    {
     "data": {
      "text/plain": [
       "Pipeline(steps=[('preprocessing',\n",
       "                 ColumnTransformer(transformers=[('categorical',\n",
       "                                                  Pipeline(steps=[('ohe',\n",
       "                                                                   OneHotEncoder(handle_unknown='ignore')),\n",
       "                                                                  ('imputer',\n",
       "                                                                   SimpleImputer(add_indicator=True,\n",
       "                                                                                 strategy='most_frequent'))]),\n",
       "                                                  ['NCAA_CONFERENCE',\n",
       "                                                   'SCHOOL_TYPE',\n",
       "                                                   'NCAA_SUBDIVISION',\n",
       "                                                   'SPORT_CODE',\n",
       "                                                   'NCAA_DIVISION']),\n",
       "                                                 ('continuous',\n",
       "                                                  Pipeline(steps=[('scaler',\n",
       "                                                                   MinMaxScaler()),\n",
       "                                                                  ('imputer',\n",
       "                                                                   SimpleImputer(add_indicator=True,\n",
       "                                                                                 strategy='median'))]),\n",
       "                                                  ['FOURYEAR_ELIGIBILITY'])])),\n",
       "                ('lr',\n",
       "                 RandomizedSearchCV(cv=5, estimator=LinearRegression(),\n",
       "                                    n_iter=13,\n",
       "                                    param_distributions={'copy_X': [True,\n",
       "                                                                    False],\n",
       "                                                         'fit_intercept': [True,\n",
       "                                                                           False],\n",
       "                                                         'n_jobs': [-1, 1],\n",
       "                                                         'normalize': [False,\n",
       "                                                                       True]},\n",
       "                                    random_state=23, verbose=1))])"
      ]
     },
     "execution_count": 34,
     "metadata": {},
     "output_type": "execute_result"
    }
   ],
   "source": [
    "hyperparameters = {'copy_X': [True, False],\n",
    " 'fit_intercept': [True, False],\n",
    " 'n_jobs': [-1,1],\n",
    " 'normalize': [False, True]}\n",
    "lr_rand = RandomizedSearchCV(estimator=LinearRegression(), \n",
    "                              param_distributions=hyperparameters, \n",
    "                              n_iter=13, \n",
    "                              cv=5, \n",
    "                              verbose=1,\n",
    "                              random_state=23)\n",
    "\n",
    "pipe_lr_cv = Pipeline([('preprocessing', preprocessing), \n",
    "                 ('lr', lr_rand)])\n",
    "\n",
    "\n",
    "pipe_lr_cv.fit(X_train, y_train)"
   ]
  },
  {
   "cell_type": "markdown",
   "id": "earned-centre",
   "metadata": {},
   "source": [
    "I then get the best model that came out of the cross validation. "
   ]
  },
  {
   "cell_type": "code",
   "execution_count": 35,
   "id": "single-ukraine",
   "metadata": {},
   "outputs": [
    {
     "data": {
      "text/plain": [
       "LinearRegression(n_jobs=-1, normalize=True)"
      ]
     },
     "execution_count": 35,
     "metadata": {},
     "output_type": "execute_result"
    }
   ],
   "source": [
    "lr_rand.best_estimator_"
   ]
  },
  {
   "cell_type": "markdown",
   "id": "portuguese-concrete",
   "metadata": {},
   "source": [
    "I then wanted to display the hyperparameters that were chosen out of the cross validation step."
   ]
  },
  {
   "cell_type": "code",
   "execution_count": 36,
   "id": "proper-compression",
   "metadata": {},
   "outputs": [
    {
     "data": {
      "text/plain": [
       "{'copy_X': True,\n",
       " 'fit_intercept': True,\n",
       " 'n_jobs': -1,\n",
       " 'normalize': True,\n",
       " 'positive': False}"
      ]
     },
     "execution_count": 36,
     "metadata": {},
     "output_type": "execute_result"
    }
   ],
   "source": [
    "lr_rand.best_estimator_.get_params()"
   ]
  },
  {
   "cell_type": "markdown",
   "id": "powered-bridge",
   "metadata": {},
   "source": [
    "I then fit this model on the data to be absolutely clear. "
   ]
  },
  {
   "cell_type": "code",
   "execution_count": 37,
   "id": "fitting-vietnam",
   "metadata": {},
   "outputs": [],
   "source": [
    "pipe_lr = Pipeline([('preprocessing', preprocessing), \n",
    "                ('lr', LinearRegression(copy_X= True,\n",
    "                                         fit_intercept= True,\n",
    "                                         n_jobs= -1,\n",
    "                                         normalize= True,\n",
    "                                         positive= False))])\n",
    "pipe_lr.fit(X,y)\n",
    "y_pred_lr = pipe_lr.predict(X_validation)"
   ]
  },
  {
   "cell_type": "markdown",
   "id": "outside-jerusalem",
   "metadata": {},
   "source": [
    "I chose MAE and MSE as my metrics because they give two different views of the performance of my model. MAE gives me an idea of how off my predictions are, on average, in the scale of my y. This gives a clear and interpretable value. I also included MSE because it is another well known metric, but it also takes into account the magnitude that I am off -- i.e. I am penalized more for larger predictive mistakes. I think these metrics together give me a well rounded understanding of my models performance."
   ]
  },
  {
   "cell_type": "code",
   "execution_count": 38,
   "id": "fundamental-iraqi",
   "metadata": {},
   "outputs": [
    {
     "name": "stdout",
     "output_type": "stream",
     "text": [
      "MAE 0.013591978400462225\n",
      "MSE 0.0003469733634128206\n"
     ]
    }
   ],
   "source": [
    "print('MAE', mean_absolute_error(y_validation, y_pred_lr))\n",
    "print('MSE', mean_squared_error(y_validation, y_pred_lr))"
   ]
  },
  {
   "cell_type": "markdown",
   "id": "planned-calgary",
   "metadata": {},
   "source": [
    "# Random Forest"
   ]
  },
  {
   "cell_type": "markdown",
   "id": "earned-trinity",
   "metadata": {},
   "source": [
    "I then chose to tune a random forest again using a random search cross validation as it is faster than a grid search while still finding optimal hyperparameters for the model."
   ]
  },
  {
   "cell_type": "code",
   "execution_count": 39,
   "id": "absolute-reality",
   "metadata": {
    "scrolled": true
   },
   "outputs": [
    {
     "name": "stdout",
     "output_type": "stream",
     "text": [
      "Fitting 5 folds for each of 13 candidates, totalling 65 fits\n"
     ]
    },
    {
     "data": {
      "text/plain": [
       "Pipeline(steps=[('preprocessing',\n",
       "                 ColumnTransformer(transformers=[('categorical',\n",
       "                                                  Pipeline(steps=[('ohe',\n",
       "                                                                   OneHotEncoder(handle_unknown='ignore')),\n",
       "                                                                  ('imputer',\n",
       "                                                                   SimpleImputer(add_indicator=True,\n",
       "                                                                                 strategy='most_frequent'))]),\n",
       "                                                  ['NCAA_CONFERENCE',\n",
       "                                                   'SCHOOL_TYPE',\n",
       "                                                   'NCAA_SUBDIVISION',\n",
       "                                                   'SPORT_CODE',\n",
       "                                                   'NCAA_DIVISION']),\n",
       "                                                 ('continuous',\n",
       "                                                  Pipeline(steps=[('scaler',\n",
       "                                                                   MinMaxScale...\n",
       "                                                                          'sqrt',\n",
       "                                                                          'log2'],\n",
       "                                                         'max_leaf_nodes': [10,\n",
       "                                                                            100,\n",
       "                                                                            1000],\n",
       "                                                         'max_samples': [None],\n",
       "                                                         'min_impurity_decrease': [0.0],\n",
       "                                                         'min_impurity_split': [None],\n",
       "                                                         'min_samples_leaf': [1,\n",
       "                                                                              10,\n",
       "                                                                              20],\n",
       "                                                         'min_samples_split': [2],\n",
       "                                                         'min_weight_fraction_leaf': [0.0],\n",
       "                                                         'n_estimators': [10,\n",
       "                                                                          100,\n",
       "                                                                          1000],\n",
       "                                                         'n_jobs': [1, -1],\n",
       "                                                         'oob_score': [False],\n",
       "                                                         'random_state': [23],\n",
       "                                                         'verbose': [0],\n",
       "                                                         'warm_start': [False,\n",
       "                                                                        True]},\n",
       "                                    verbose=1))])"
      ]
     },
     "execution_count": 39,
     "metadata": {},
     "output_type": "execute_result"
    }
   ],
   "source": [
    "hyperparameters = {'bootstrap': [True, False],\n",
    " 'ccp_alpha': [0.0],\n",
    " 'criterion': ['mse', 'gini'],\n",
    " 'max_depth': [1, 10, 100], \n",
    " 'max_features': ['auto', 'sqrt', 'log2'],\n",
    " 'max_leaf_nodes': [10, 100, 1000],\n",
    " 'max_samples': [None],\n",
    " 'min_impurity_decrease': [0.0],\n",
    " 'min_impurity_split': [None],\n",
    " 'min_samples_leaf': [1, 10, 20],\n",
    " 'min_samples_split': [2],\n",
    " 'min_weight_fraction_leaf': [0.0],\n",
    " 'n_estimators': [10, 100, 1000],\n",
    " 'n_jobs': [1, -1],\n",
    " 'oob_score': [False],\n",
    " 'random_state': [23],\n",
    " 'verbose': [0],\n",
    " 'warm_start': [False, True]}\n",
    "clf_rand = RandomizedSearchCV(estimator=RandomForestRegressor(), \n",
    "                              param_distributions=hyperparameters, \n",
    "                              n_iter=13, \n",
    "                              cv=5, \n",
    "                              verbose=1)\n",
    "\n",
    "pipe_rf_cv = Pipeline([('preprocessing',preprocessing),\n",
    "                ('clf', clf_rand)])\n",
    "pipe_rf_cv.fit(X_train, y_train)"
   ]
  },
  {
   "cell_type": "markdown",
   "id": "laden-roads",
   "metadata": {},
   "source": [
    "I then get the best model that came out of the cross validation. "
   ]
  },
  {
   "cell_type": "code",
   "execution_count": 40,
   "id": "peripheral-syria",
   "metadata": {},
   "outputs": [
    {
     "data": {
      "text/plain": [
       "RandomForestRegressor(max_depth=100, max_leaf_nodes=1000, min_samples_leaf=10,\n",
       "                      n_estimators=10, n_jobs=1, random_state=23)"
      ]
     },
     "execution_count": 40,
     "metadata": {},
     "output_type": "execute_result"
    }
   ],
   "source": [
    "clf_rand.best_estimator_"
   ]
  },
  {
   "cell_type": "markdown",
   "id": "limited-offset",
   "metadata": {},
   "source": [
    "I then wanted to display the hyperparameters that were chosen out of the cross validation step."
   ]
  },
  {
   "cell_type": "code",
   "execution_count": 41,
   "id": "ultimate-charm",
   "metadata": {},
   "outputs": [
    {
     "data": {
      "text/plain": [
       "{'bootstrap': True,\n",
       " 'ccp_alpha': 0.0,\n",
       " 'criterion': 'mse',\n",
       " 'max_depth': 100,\n",
       " 'max_features': 'auto',\n",
       " 'max_leaf_nodes': 1000,\n",
       " 'max_samples': None,\n",
       " 'min_impurity_decrease': 0.0,\n",
       " 'min_impurity_split': None,\n",
       " 'min_samples_leaf': 10,\n",
       " 'min_samples_split': 2,\n",
       " 'min_weight_fraction_leaf': 0.0,\n",
       " 'n_estimators': 10,\n",
       " 'n_jobs': 1,\n",
       " 'oob_score': False,\n",
       " 'random_state': 23,\n",
       " 'verbose': 0,\n",
       " 'warm_start': False}"
      ]
     },
     "execution_count": 41,
     "metadata": {},
     "output_type": "execute_result"
    }
   ],
   "source": [
    "clf_rand.best_estimator_.get_params()"
   ]
  },
  {
   "cell_type": "markdown",
   "id": "printable-means",
   "metadata": {},
   "source": [
    "I then fit this model on the data to be absolutely clear. "
   ]
  },
  {
   "cell_type": "code",
   "execution_count": 42,
   "id": "religious-healing",
   "metadata": {},
   "outputs": [],
   "source": [
    "pipe_rf = Pipeline([('preprocessing',preprocessing),\n",
    "                ('clf', RandomForestRegressor(bootstrap=True,\n",
    "                                     ccp_alpha=0.0,\n",
    "                                     criterion='mse',\n",
    "                                     max_depth=10,\n",
    "                                     max_features='auto',\n",
    "                                     max_leaf_nodes=1000,\n",
    "                                     max_samples=None,\n",
    "                                     min_impurity_decrease=0.0,\n",
    "                                     min_impurity_split=None,\n",
    "                                     min_samples_leaf=20,\n",
    "                                     min_samples_split=2,\n",
    "                                     min_weight_fraction_leaf=0.0,\n",
    "                                     n_estimators=10,\n",
    "                                     n_jobs=1,\n",
    "                                     oob_score=False,\n",
    "                                     random_state=23,\n",
    "                                     verbose=0,\n",
    "                                     warm_start=False))])\n",
    "\n",
    "pipe_rf.fit(X,y)\n",
    "y_pred_rf = pipe_rf.predict(X_validation)"
   ]
  },
  {
   "cell_type": "markdown",
   "id": "legal-lebanon",
   "metadata": {},
   "source": [
    "I then report the validation metrics:"
   ]
  },
  {
   "cell_type": "code",
   "execution_count": 43,
   "id": "thousand-service",
   "metadata": {},
   "outputs": [
    {
     "name": "stdout",
     "output_type": "stream",
     "text": [
      "MAE 0.013583744376461154\n",
      "MSE 0.00034175765189707456\n"
     ]
    }
   ],
   "source": [
    "print('MAE', mean_absolute_error(y_validation, y_pred_rf))\n",
    "print('MSE', mean_squared_error(y_validation, y_pred_rf))"
   ]
  },
  {
   "cell_type": "markdown",
   "id": "valuable-introduction",
   "metadata": {},
   "source": [
    "# Final Model"
   ]
  },
  {
   "cell_type": "markdown",
   "id": "balanced-greensboro",
   "metadata": {},
   "source": [
    "Our final model is the linear regression model as it slightly outperforms the random forest regressor across all displayed metrics. However, the validation metrics on these two algorithms were very close. I ultimately chose linear regression over random forests because of both the \"better\" validation metrics, and because linear models are simpler and train faster than random forests. "
   ]
  },
  {
   "cell_type": "code",
   "execution_count": 44,
   "id": "polyphonic-anderson",
   "metadata": {},
   "outputs": [
    {
     "data": {
      "text/plain": [
       "LinearRegression(n_jobs=-1, normalize=True)"
      ]
     },
     "execution_count": 44,
     "metadata": {},
     "output_type": "execute_result"
    }
   ],
   "source": [
    "lr_rand.best_estimator_"
   ]
  },
  {
   "cell_type": "markdown",
   "id": "brutal-cherry",
   "metadata": {},
   "source": [
    "The parameters of the final model are as follows:"
   ]
  },
  {
   "cell_type": "code",
   "execution_count": 45,
   "id": "polar-europe",
   "metadata": {},
   "outputs": [
    {
     "data": {
      "text/plain": [
       "{'normalize': True, 'n_jobs': -1, 'fit_intercept': True, 'copy_X': True}"
      ]
     },
     "execution_count": 45,
     "metadata": {},
     "output_type": "execute_result"
    }
   ],
   "source": [
    "lr_rand.best_params_"
   ]
  },
  {
   "cell_type": "markdown",
   "id": "atlantic-bennett",
   "metadata": {},
   "source": [
    "Another representation of the final model: \n",
    "- LinearRegression(copy_X=True,                   fit_intercept=True, n_jobs=-1, normalize=True, positive=False)\n"
   ]
  },
  {
   "cell_type": "markdown",
   "id": "analyzed-rubber",
   "metadata": {},
   "source": [
    "I then wanted to explore feature importance in the model:"
   ]
  },
  {
   "cell_type": "code",
   "execution_count": 46,
   "id": "unlikely-small",
   "metadata": {},
   "outputs": [
    {
     "name": "stdout",
     "output_type": "stream",
     "text": [
      "SPORT_CODE 0.349 +/- 0.020\n",
      "FOURYEAR_ELIGIBILITY 0.218 +/- 0.018\n",
      "NCAA_CONFERENCE 0.077 +/- 0.009\n",
      "SCHOOL_TYPE 0.018 +/- 0.003\n",
      "NCAA_SUBDIVISION 0.010 +/- 0.002\n",
      "NCAA_DIVISION 0.000 +/- 0.001\n"
     ]
    }
   ],
   "source": [
    "def pretty_print(r):\n",
    "    for i in r.importances_mean.argsort()[::-1]:\n",
    "        print(f\"{train.columns[i]}\",\n",
    "            f\"{r.importances_mean[i]:.3f}\"\n",
    "            f\" +/- {r.importances_std[i]:.3f}\")\n",
    "\n",
    "r = permutation_importance(pipe_lr, X_validation, y_validation,\n",
    "                            n_repeats=30,\n",
    "                            random_state=0)\n",
    "pretty_print(r)"
   ]
  },
  {
   "cell_type": "markdown",
   "id": "certified-gender",
   "metadata": {},
   "source": [
    "Plot feature importance"
   ]
  },
  {
   "cell_type": "code",
   "execution_count": 47,
   "id": "shaped-spank",
   "metadata": {},
   "outputs": [
    {
     "data": {
      "image/png": "[encoded data removed]",
      "text/plain": [
       "<Figure size 432x288 with 1 Axes>"
      ]
     },
     "metadata": {
      "needs_background": "light"
     },
     "output_type": "display_data"
    }
   ],
   "source": [
    "for_plot = pd.DataFrame(dict(zip(train.columns, r.importances_mean)), index=range(1)).T\n",
    "\n",
    "for_plot = for_plot.sort_values(0).T\n",
    "\n",
    "plt.barh(for_plot.columns, for_plot.iloc[0])\n",
    "plt.xlabel('Permutation Feature Importance')\n",
    "plt.title('Feature Importanced in Final Model')\n",
    "plt.show()"
   ]
  },
  {
   "cell_type": "markdown",
   "id": "strong-harassment",
   "metadata": {},
   "source": [
    "Save final model for deployment."
   ]
  },
  {
   "cell_type": "code",
   "execution_count": 48,
   "id": "mounted-color",
   "metadata": {},
   "outputs": [
    {
     "data": {
      "text/plain": [
       "['lin_mod']"
      ]
     },
     "execution_count": 48,
     "metadata": {},
     "output_type": "execute_result"
    }
   ],
   "source": [
    "joblib.dump(pipe_lr, 'lin_mod')"
   ]
  },
  {
   "cell_type": "markdown",
   "id": "spare-coral",
   "metadata": {},
   "source": [
    "# Try our model on Test Data"
   ]
  },
  {
   "cell_type": "code",
   "execution_count": 49,
   "id": "consolidated-confidentiality",
   "metadata": {},
   "outputs": [],
   "source": [
    "X_test = test[['SCHOOL_TYPE',\n",
    "       'SPORT_CODE', 'NCAA_DIVISION', 'NCAA_SUBDIVISION',\n",
    "       'NCAA_CONFERENCE', \n",
    "       'FOURYEAR_ELIGIBILITY']]\n",
    "y_test = test['FOURYEAR_RETENTION']"
   ]
  },
  {
   "cell_type": "markdown",
   "id": "looking-situation",
   "metadata": {},
   "source": [
    "# Test Metrics"
   ]
  },
  {
   "cell_type": "code",
   "execution_count": 50,
   "id": "binary-fourth",
   "metadata": {},
   "outputs": [
    {
     "name": "stdout",
     "output_type": "stream",
     "text": [
      "MAE 0.01353597027371268\n",
      "MSE 0.00034304111152053785\n"
     ]
    }
   ],
   "source": [
    "test_y_lr = pipe_lr.predict(X_test)\n",
    "print('MAE', mean_absolute_error(test_y_lr, y_test))\n",
    "print('MSE', mean_squared_error(test_y_lr, y_test))"
   ]
  },
  {
   "cell_type": "markdown",
   "id": "closing-negative",
   "metadata": {},
   "source": [
    "Since the final model preforms quite similarly on the test set as the validation set, we can assume it will generalize well. Having an MAE of ~.0136 is telling us that on average, the model is off of it's prediction of retention rate by .0136 which considering the scale is from 0 to 1 makes this model useful. This work is useful as we have not only provided a model that can predict four year retention rates, but we have also provided inference on the model. Knowing that sport code and four year eligibility are the most important features of the model gives the NCAA a place to start looking into the reasons for the recent increase in transfer rates. Future work on this model would include receiving feedback from the NCAA and collecting new features that could further improve the model, such as school's academic rating."
   ]
  },
  {
   "cell_type": "markdown",
   "id": "metallic-alliance",
   "metadata": {},
   "source": [
    "# Summary"
   ]
  },
  {
   "cell_type": "markdown",
   "id": "transparent-kenya",
   "metadata": {},
   "source": [
    "In this project, I began with some EDA and discovered that the dataset encoded missing values with -99. I went back through the data and replaced those values with nan. However, I wanted to create a missing category in the NCAA subdivision feature as I thought the fact is was missing could be important so I replaced those values with the word 'Missing'. From there I fit 6 models with their default hyperparameters and reported their MAE and MSE so I could choose two final models to tune and fit. This returned Linear Regression and Random Forrest Regressor as my models. From there, I used a random cv search across hyperparameters to find the best model for each algorithm. I then chose linear regression as my final model as it outperformed the random forest regressor. The final model was then tested on the test data set to see if this model is generalizable and to make sure the model did not overfit to the training data. We found that the model preformed quite well on the test dataset. I finally looked at feature importance of the final model so that I could provide some model interpretation to the NCAA. I then wrote a python script for a deployment that takes a text file with the needed features and outputs a HTML file with the predicted retention rate and how that score compares to other scores. "
   ]
  },
  {
   "cell_type": "code",
   "execution_count": null,
   "id": "recent-persian",
   "metadata": {},
   "outputs": [],
   "source": []
  }
 ],
 "metadata": {
  "kernelspec": {
   "display_name": "Python 3",
   "language": "python",
   "name": "python3"
  },
  "language_info": {
   "codemirror_mode": {
    "name": "ipython",
    "version": 3
   },
   "file_extension": ".py",
   "mimetype": "text/x-python",
   "name": "python",
   "nbconvert_exporter": "python",
   "pygments_lexer": "ipython3",
   "version": "3.8.3"
  }
 },
 "nbformat": 4,
 "nbformat_minor": 5
}
