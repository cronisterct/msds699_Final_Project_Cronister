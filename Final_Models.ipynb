{
 "cells": [
  {
   "cell_type": "code",
   "execution_count": 2,
   "id": "prepared-pixel",
   "metadata": {},
   "outputs": [],
   "source": [
    "import pandas as pd\n",
    "import numpy as np\n",
    "! pip install -q category_encoders # For google colab\n",
    "\n",
    "from   category_encoders       import *\n",
    "from sklearn.pipeline import Pipeline\n",
    "from sklearn.linear_model import LinearRegression\n",
    "from sklearn.model_selection import train_test_split\n",
    "from sklearn.ensemble import RandomForestRegressor\n",
    "from sklearn.datasets import make_regression\n",
    "from   sklearn.compose         import *\n",
    "from   sklearn.experimental    import enable_iterative_imputer\n",
    "from   sklearn.impute          import *\n",
    "from   sklearn.metrics         import * \n",
    "from   sklearn.preprocessing   import *\n",
    "from sklearn.model_selection import KFold\n",
    "from sklearn.model_selection import RandomizedSearchCV\n",
    "from sklearn.compose import TransformedTargetRegressor\n",
    "from sklearn.decomposition import PCA\n",
    "import matplotlib.pyplot as plt\n",
    "from sklearn.inspection import permutation_importance\n",
    "from sklearn.linear_model  import Lasso, Ridge, ElasticNet, HuberRegressor, BayesianRidge\n",
    "\n",
    "\n",
    "import warnings\n",
    "warnings.filterwarnings('ignore')\n",
    "import joblib"
   ]
  },
  {
   "cell_type": "markdown",
   "id": "ceramic-government",
   "metadata": {},
   "source": [
    "[![Open In Colab](https://colab.research.google.com/assets/colab-badge.svg)](https://colab.research.google.com/github/cronisterct/msds699_Final_Project_Cronister/blob/main/Final_Models.ipynb)"
   ]
  },
  {
   "cell_type": "code",
   "execution_count": 3,
   "id": "stable-convenience",
   "metadata": {},
   "outputs": [],
   "source": [
    "df = pd.read_csv('https://raw.githubusercontent.com/cronisterct/msds699_Final_Project_Cronister/main/NCAA_data.csv')"
   ]
  },
  {
   "cell_type": "markdown",
   "id": "freelance-jenny",
   "metadata": {},
   "source": [
    "# Splitting Data\n",
    "Split off 10% of data for test set and save for later"
   ]
  },
  {
   "cell_type": "code",
   "execution_count": 4,
   "id": "solid-maple",
   "metadata": {},
   "outputs": [],
   "source": [
    "test = df.sample(frac=.1, random_state=23)\n",
    "\n",
    "train = df[~df.index.isin(test.index)]\n",
    "\n",
    "X = train[['SCHOOL_TYPE',\n",
    "       'SPORT_CODE', 'NCAA_DIVISION', 'NCAA_SUBDIVISION',\n",
    "       'NCAA_CONFERENCE',\n",
    "       'FOURYEAR_ELIGIBILITY']]\n",
    "y = train['FOURYEAR_RETENTION']\n",
    "\n",
    "X_train, X_validation, y_train, y_validation = train_test_split(X, y, test_size=.2, random_state=23)"
   ]
  },
  {
   "cell_type": "markdown",
   "id": "dental-statement",
   "metadata": {},
   "source": [
    "# Feature Engineering"
   ]
  },
  {
   "cell_type": "markdown",
   "id": "seeing-array",
   "metadata": {},
   "source": [
    "While there are no missing values in this dataset, I wanted to include Simple Imputer in my pipeline for my deployment incase someone tries to pass data that is missing a value. I wanted to use a min max scaler on the continuous data so that it was consistent and to 'pull in' outliers. Additionally, I added a one hot encoder to my preprocessing pipeline so that the categorical variables could be properly transformed for my models. "
   ]
  },
  {
   "cell_type": "code",
   "execution_count": 5,
   "id": "israeli-soundtrack",
   "metadata": {},
   "outputs": [],
   "source": [
    "categorical_columns = ['NCAA_CONFERENCE','SCHOOL_TYPE','NCAA_SUBDIVISION', 'SPORT_CODE', 'NCAA_DIVISION']\n",
    "numerical_columns = ['FOURYEAR_ELIGIBILITY']\n",
    "\n",
    "\n",
    "con_pipe = Pipeline([('scaler', MinMaxScaler()),\n",
    "                      ('imputer', SimpleImputer(strategy='median', add_indicator=True))])\n",
    "\n",
    "cat_pipe = Pipeline([('ohe', OneHotEncoder(handle_unknown='ignore')),\n",
    "                     ('imputer', SimpleImputer(strategy='most_frequent', add_indicator=True))])\n",
    "\n",
    "preprocessing = ColumnTransformer([('categorical', cat_pipe,  categorical_columns),\n",
    "                                   ('continuous',  con_pipe, numerical_columns),\n",
    "                                   ])"
   ]
  },
  {
   "cell_type": "markdown",
   "id": "entitled-cartoon",
   "metadata": {},
   "source": [
    "# Choose two algorithms"
   ]
  },
  {
   "cell_type": "markdown",
   "id": "helpful-manchester",
   "metadata": {},
   "source": [
    "I began by picking 5 regressor algorithms we had seen in class and I wanted to pick two of them based off their MAE and MSE with no hyperparameter tuning.   "
   ]
  },
  {
   "cell_type": "code",
   "execution_count": 6,
   "id": "rotary-jacob",
   "metadata": {},
   "outputs": [
    {
     "name": "stdout",
     "output_type": "stream",
     "text": [
      "LinearRegression  - mean squared error: 0.0003544153526471984\n",
      "LinearRegression  - mean absolute error: 0.01368273372552391\n",
      "Lasso             - mean squared error: 0.0006538029577913834\n",
      "Lasso             - mean absolute error: 0.01960185429907224\n",
      "Ridge             - mean squared error: 0.0003553595667340243\n",
      "Ridge             - mean absolute error: 0.013735022794214366\n",
      "ElasticNet        - mean squared error: 0.0006538029577913834\n",
      "ElasticNet        - mean absolute error: 0.01960185429907224\n",
      "RandomForestRegressor - mean squared error: 0.00038989069174395286\n",
      "RandomForestRegressor - mean absolute error: 0.013749149616983215\n"
     ]
    }
   ],
   "source": [
    "algorithms = [LinearRegression(), Lasso(), Ridge(), ElasticNet(), \n",
    "               RandomForestRegressor()]\n",
    "\n",
    "for algo in algorithms:\n",
    "    pipe = Pipeline([('preprocessing', preprocessing), \n",
    "                     ('lm',     algo)])\n",
    "\n",
    "    pipe.fit(X_train, y_train)\n",
    "    y_pred = pipe.predict(X_validation)\n",
    "    mse = mean_squared_error(y_validation, y_pred)\n",
    "    mae = mean_absolute_error(y_validation, y_pred)\n",
    "    print(f\"{algo.__class__.__name__:<17} - mean squared error: {mse}\")\n",
    "    print(f\"{algo.__class__.__name__:<17} - mean absolute error: {mae}\")"
   ]
  },
  {
   "cell_type": "markdown",
   "id": "seeing-original",
   "metadata": {},
   "source": [
    "I chose Linear Regression and Random Forest Regressor as these give us the lowest MSE and MAE without hyperparameter tuning. These initial metrics were quite promising as an MAE of .0137, for example, tells us we were only on our prediction 1.37%, on average (we can use percent here because our inital units are a ratio themselves)."
   ]
  },
  {
   "cell_type": "markdown",
   "id": "premier-waste",
   "metadata": {},
   "source": [
    "# Linear Regression"
   ]
  },
  {
   "cell_type": "markdown",
   "id": "accepted-starter",
   "metadata": {},
   "source": [
    "I first chose to tune a linear regression model using a random search cross validation as it is faster than a grid search while still finding optimal hyperparameters for the model. "
   ]
  },
  {
   "cell_type": "code",
   "execution_count": 7,
   "id": "developed-bedroom",
   "metadata": {},
   "outputs": [
    {
     "name": "stdout",
     "output_type": "stream",
     "text": [
      "Fitting 5 folds for each of 8 candidates, totalling 40 fits\n"
     ]
    },
    {
     "data": {
      "text/plain": [
       "Pipeline(steps=[('preprocessing',\n",
       "                 ColumnTransformer(transformers=[('categorical',\n",
       "                                                  Pipeline(steps=[('ohe',\n",
       "                                                                   OneHotEncoder(handle_unknown='ignore')),\n",
       "                                                                  ('imputer',\n",
       "                                                                   SimpleImputer(add_indicator=True,\n",
       "                                                                                 strategy='most_frequent'))]),\n",
       "                                                  ['NCAA_CONFERENCE',\n",
       "                                                   'SCHOOL_TYPE',\n",
       "                                                   'NCAA_SUBDIVISION',\n",
       "                                                   'SPORT_CODE',\n",
       "                                                   'NCAA_DIVISION']),\n",
       "                                                 ('continuous',\n",
       "                                                  Pipeline(steps=[('scaler',\n",
       "                                                                   MinMaxScaler()),\n",
       "                                                                  ('imputer',\n",
       "                                                                   SimpleImputer(add_indicator=True,\n",
       "                                                                                 strategy='median'))]),\n",
       "                                                  ['FOURYEAR_ELIGIBILITY'])])),\n",
       "                ('lr',\n",
       "                 RandomizedSearchCV(cv=5, estimator=LinearRegression(),\n",
       "                                    n_iter=13,\n",
       "                                    param_distributions={'copy_X': [True],\n",
       "                                                         'fit_intercept': [True,\n",
       "                                                                           False],\n",
       "                                                         'n_jobs': [-1, 1],\n",
       "                                                         'normalize': [False,\n",
       "                                                                       True]},\n",
       "                                    random_state=23, verbose=1))])"
      ]
     },
     "execution_count": 7,
     "metadata": {},
     "output_type": "execute_result"
    }
   ],
   "source": [
    "hyperparameters = {'copy_X': [True], # Keep this as true so we can make sure X is not overwritten \n",
    " 'fit_intercept': [True, False], # We want to see if leaving out the intercept helps our model\n",
    " 'n_jobs': [-1,1], # We want to see if this helps speed up our model\n",
    " 'normalize': [False, True]} # Finally we want to check to see if normalizing helps our model \n",
    "lr_rand = RandomizedSearchCV(estimator=LinearRegression(), \n",
    "                              param_distributions=hyperparameters, \n",
    "                              n_iter=13, \n",
    "                              cv=5, \n",
    "                              verbose=1,\n",
    "                              random_state=23)\n",
    "\n",
    "pipe_lr_cv = Pipeline([('preprocessing', preprocessing), \n",
    "                 ('lr', lr_rand)])\n",
    "\n",
    "\n",
    "pipe_lr_cv.fit(X_train, y_train)"
   ]
  },
  {
   "cell_type": "markdown",
   "id": "hazardous-working",
   "metadata": {},
   "source": [
    "I then get the best model that came out of the cross validation. "
   ]
  },
  {
   "cell_type": "code",
   "execution_count": 8,
   "id": "existing-plastic",
   "metadata": {},
   "outputs": [
    {
     "data": {
      "text/plain": [
       "LinearRegression(n_jobs=-1, normalize=True)"
      ]
     },
     "execution_count": 8,
     "metadata": {},
     "output_type": "execute_result"
    }
   ],
   "source": [
    "lr_rand.best_estimator_"
   ]
  },
  {
   "cell_type": "markdown",
   "id": "faced-acoustic",
   "metadata": {},
   "source": [
    "I then wanted to display the hyperparameters that were chosen out of the cross validation step."
   ]
  },
  {
   "cell_type": "code",
   "execution_count": 9,
   "id": "matched-liverpool",
   "metadata": {},
   "outputs": [
    {
     "data": {
      "text/plain": [
       "{'copy_X': True,\n",
       " 'fit_intercept': True,\n",
       " 'n_jobs': -1,\n",
       " 'normalize': True,\n",
       " 'positive': False}"
      ]
     },
     "execution_count": 9,
     "metadata": {},
     "output_type": "execute_result"
    }
   ],
   "source": [
    "lr_rand.best_estimator_.get_params()"
   ]
  },
  {
   "cell_type": "markdown",
   "id": "killing-murray",
   "metadata": {},
   "source": [
    "I then fit this model on the data to be absolutely clear. "
   ]
  },
  {
   "cell_type": "code",
   "execution_count": 10,
   "id": "double-cover",
   "metadata": {},
   "outputs": [],
   "source": [
    "pipe_lr = Pipeline([('preprocessing', preprocessing), \n",
    "                ('lr', LinearRegression(copy_X= True,\n",
    "                                         fit_intercept= True,\n",
    "                                         n_jobs= -1,\n",
    "                                         normalize= True,\n",
    "                                         positive= False))])\n",
    "pipe_lr.fit(X,y)\n",
    "y_pred_lr = pipe_lr.predict(X_validation)"
   ]
  },
  {
   "cell_type": "markdown",
   "id": "impressive-patrol",
   "metadata": {},
   "source": [
    "I chose MAE and MSE as my metrics because they give two different views of the performance of my model. MAE gives me an idea of how off my predictions are, on average, in the scale of my y. This gives a clear and interpretable value. I also included MSE because it is another well known metric, but it also takes into account the magnitude that I am off -- i.e. I am penalized more for larger predictive mistakes. I think these metrics together give me a well rounded understanding of my models performance. "
   ]
  },
  {
   "cell_type": "code",
   "execution_count": 38,
   "id": "blocked-centre",
   "metadata": {},
   "outputs": [
    {
     "name": "stdout",
     "output_type": "stream",
     "text": [
      "MAE 0.013591978400462225\n",
      "MSE 0.0003469733634128206\n"
     ]
    }
   ],
   "source": [
    "print('MAE', mean_absolute_error(y_validation, y_pred_lr))\n",
    "print('MSE', mean_squared_error(y_validation, y_pred_lr))"
   ]
  },
  {
   "cell_type": "markdown",
   "id": "artificial-laser",
   "metadata": {},
   "source": [
    "These are strong results as we have a very low MSE (0.000347) and since MSE is really affected by large prediciton errors, we can feel confident about our results. Additionally, we see and MAE of .01359 so our predictions are off, on average, .01359 units. Since the original y is a ratio (and lives between 0 and 1), we can actually interpret this as roughly the percent off. Thus we are about 1.4% off of the acutal retention score on average which is a very strong result. "
   ]
  },
  {
   "cell_type": "markdown",
   "id": "ultimate-dictionary",
   "metadata": {},
   "source": [
    "# Random Forest"
   ]
  },
  {
   "cell_type": "markdown",
   "id": "forbidden-fetish",
   "metadata": {},
   "source": [
    "I then chose to tune a random forest again using a random search cross validation as it is faster than a grid search while still finding optimal hyperparameters for the model."
   ]
  },
  {
   "cell_type": "code",
   "execution_count": 12,
   "id": "fourth-bernard",
   "metadata": {
    "scrolled": true
   },
   "outputs": [
    {
     "name": "stdout",
     "output_type": "stream",
     "text": [
      "Fitting 5 folds for each of 13 candidates, totalling 65 fits\n"
     ]
    },
    {
     "data": {
      "text/plain": [
       "Pipeline(steps=[('preprocessing',\n",
       "                 ColumnTransformer(transformers=[('categorical',\n",
       "                                                  Pipeline(steps=[('ohe',\n",
       "                                                                   OneHotEncoder(handle_unknown='ignore')),\n",
       "                                                                  ('imputer',\n",
       "                                                                   SimpleImputer(add_indicator=True,\n",
       "                                                                                 strategy='most_frequent'))]),\n",
       "                                                  ['NCAA_CONFERENCE',\n",
       "                                                   'SCHOOL_TYPE',\n",
       "                                                   'NCAA_SUBDIVISION',\n",
       "                                                   'SPORT_CODE',\n",
       "                                                   'NCAA_DIVISION']),\n",
       "                                                 ('continuous',\n",
       "                                                  Pipeline(steps=[('scaler',\n",
       "                                                                   MinMaxScale...\n",
       "                                                                                 strategy='median'))]),\n",
       "                                                  ['FOURYEAR_ELIGIBILITY'])])),\n",
       "                ('clf',\n",
       "                 RandomizedSearchCV(cv=5, estimator=RandomForestRegressor(),\n",
       "                                    n_iter=13,\n",
       "                                    param_distributions={'bootstrap': [True,\n",
       "                                                                       False],\n",
       "                                                         'criterion': ['mse'],\n",
       "                                                         'max_depth': [1, 10,\n",
       "                                                                       100],\n",
       "                                                         'max_features': ['auto',\n",
       "                                                                          'sqrt',\n",
       "                                                                          'log2'],\n",
       "                                                         'min_samples_leaf': [1,\n",
       "                                                                              10,\n",
       "                                                                              20],\n",
       "                                                         'n_estimators': [10,\n",
       "                                                                          100,\n",
       "                                                                          1000],\n",
       "                                                         'n_jobs': [1, -1],\n",
       "                                                         'random_state': [23]},\n",
       "                                    verbose=1))])"
      ]
     },
     "execution_count": 12,
     "metadata": {},
     "output_type": "execute_result"
    }
   ],
   "source": [
    "hyperparameters = {'bootstrap': [True, False], # See if bootstrapping the model improves the model's results\n",
    " 'criterion': ['mse'], # Make sure we are using the proper metric for a regressor \n",
    " 'max_depth': [1, 10, 100], # Stop the tree at a certain depth to see if it improves generality \n",
    " 'max_features': ['auto', 'sqrt', 'log2'], # Choose different algorithms to see changing the amount of features available at each split improves the model\n",
    " 'min_samples_leaf': [1, 10, 20], # See if including more samples on each leaf improves generality \n",
    " 'n_estimators': [10, 100, 1000], # Will adding more trees help us reduce variance of the model?\n",
    " 'n_jobs': [1, -1], # See if we can speed up the model\n",
    " 'random_state': [23]} # Keep the same random state \n",
    "clf_rand = RandomizedSearchCV(estimator=RandomForestRegressor(), \n",
    "                              param_distributions=hyperparameters, \n",
    "                              n_iter=13, \n",
    "                              cv=5, \n",
    "                              verbose=1)\n",
    "\n",
    "pipe_rf_cv = Pipeline([('preprocessing',preprocessing),\n",
    "                ('clf', clf_rand)])\n",
    "pipe_rf_cv.fit(X_train, y_train)"
   ]
  },
  {
   "cell_type": "markdown",
   "id": "cheap-emergency",
   "metadata": {},
   "source": [
    "I then get the best model that came out of the cross validation. "
   ]
  },
  {
   "cell_type": "code",
   "execution_count": 13,
   "id": "caring-sheffield",
   "metadata": {},
   "outputs": [
    {
     "data": {
      "text/plain": [
       "RandomForestRegressor(bootstrap=False, max_depth=100, max_features='sqrt',\n",
       "                      min_samples_leaf=10, n_estimators=1000, n_jobs=1,\n",
       "                      random_state=23)"
      ]
     },
     "execution_count": 13,
     "metadata": {},
     "output_type": "execute_result"
    }
   ],
   "source": [
    "clf_rand.best_estimator_"
   ]
  },
  {
   "cell_type": "markdown",
   "id": "continent-mouth",
   "metadata": {},
   "source": [
    "I then wanted to display the hyperparameters that were chosen out of the cross validation step."
   ]
  },
  {
   "cell_type": "code",
   "execution_count": 14,
   "id": "stopped-israel",
   "metadata": {},
   "outputs": [
    {
     "data": {
      "text/plain": [
       "{'bootstrap': False,\n",
       " 'ccp_alpha': 0.0,\n",
       " 'criterion': 'mse',\n",
       " 'max_depth': 100,\n",
       " 'max_features': 'sqrt',\n",
       " 'max_leaf_nodes': None,\n",
       " 'max_samples': None,\n",
       " 'min_impurity_decrease': 0.0,\n",
       " 'min_impurity_split': None,\n",
       " 'min_samples_leaf': 10,\n",
       " 'min_samples_split': 2,\n",
       " 'min_weight_fraction_leaf': 0.0,\n",
       " 'n_estimators': 1000,\n",
       " 'n_jobs': 1,\n",
       " 'oob_score': False,\n",
       " 'random_state': 23,\n",
       " 'verbose': 0,\n",
       " 'warm_start': False}"
      ]
     },
     "execution_count": 14,
     "metadata": {},
     "output_type": "execute_result"
    }
   ],
   "source": [
    "clf_rand.best_estimator_.get_params()"
   ]
  },
  {
   "cell_type": "markdown",
   "id": "vietnamese-friend",
   "metadata": {},
   "source": [
    "I then fit this model on the data to be absolutely clear. "
   ]
  },
  {
   "cell_type": "code",
   "execution_count": 17,
   "id": "european-spirit",
   "metadata": {},
   "outputs": [],
   "source": [
    "pipe_rf = Pipeline([('preprocessing',preprocessing),\n",
    "                ('clf', RandomForestRegressor(bootstrap=False,\n",
    "                                     ccp_alpha=0.0,\n",
    "                                     criterion='mse',\n",
    "                                     max_depth=100,\n",
    "                                     max_features='sqrt',\n",
    "                                     max_leaf_nodes=None,\n",
    "                                     max_samples=None,\n",
    "                                     min_impurity_decrease=0.0,\n",
    "                                     min_impurity_split=None,\n",
    "                                     min_samples_leaf=10,\n",
    "                                     min_samples_split=2,\n",
    "                                     min_weight_fraction_leaf=0.0,\n",
    "                                     n_estimators=1000,\n",
    "                                     n_jobs=1,\n",
    "                                     oob_score=False,\n",
    "                                     random_state=23,\n",
    "                                     verbose=0,\n",
    "                                     warm_start=False))])\n",
    "\n",
    "pipe_rf.fit(X,y)\n",
    "y_pred_rf = pipe_rf.predict(X_validation)"
   ]
  },
  {
   "cell_type": "markdown",
   "id": "different-reason",
   "metadata": {},
   "source": [
    "I then report the validation metrics:"
   ]
  },
  {
   "cell_type": "code",
   "execution_count": 18,
   "id": "southern-timber",
   "metadata": {},
   "outputs": [
    {
     "name": "stdout",
     "output_type": "stream",
     "text": [
      "MAE 0.013613746756531665\n",
      "MSE 0.0003514749600221193\n"
     ]
    }
   ],
   "source": [
    "print('MAE', mean_absolute_error(y_validation, y_pred_rf))\n",
    "print('MSE', mean_squared_error(y_validation, y_pred_rf))"
   ]
  },
  {
   "cell_type": "markdown",
   "id": "rubber-transport",
   "metadata": {},
   "source": [
    "Similar to the Linear Regression model, these are strong results as we have a very low MSE (0.000351) and since MSE is really effected by large prediciton errors, we can again feel confident about our results. Additionally, we see and MAE of .01361 so our predictions are off, on average, .0136 units. Since the original y is a ratio (and lives between 0 and 1), we can actually interpret this as roughly the percent off. Thus we are about 1.36% off the acutal retention score on average which is a very strong result. "
   ]
  },
  {
   "cell_type": "markdown",
   "id": "expanded-recall",
   "metadata": {},
   "source": [
    "# Final Model"
   ]
  },
  {
   "cell_type": "markdown",
   "id": "fitting-trademark",
   "metadata": {},
   "source": [
    "Our final model is the linear regression model as it slightly outperforms the random forest regressor across all displayed metrics. However, the validation metrics on these two algorithms were very close. I ultimately chose linear regression over random forests because of both the \"better\" validation metrics, and because linear models are simpler and train faster than random forests. "
   ]
  },
  {
   "cell_type": "code",
   "execution_count": 19,
   "id": "legal-remove",
   "metadata": {},
   "outputs": [
    {
     "data": {
      "text/plain": [
       "LinearRegression(n_jobs=-1, normalize=True)"
      ]
     },
     "execution_count": 19,
     "metadata": {},
     "output_type": "execute_result"
    }
   ],
   "source": [
    "lr_rand.best_estimator_"
   ]
  },
  {
   "cell_type": "markdown",
   "id": "sacred-synthesis",
   "metadata": {},
   "source": [
    "The parameters of the final model are as follows:"
   ]
  },
  {
   "cell_type": "code",
   "execution_count": 20,
   "id": "paperback-manor",
   "metadata": {},
   "outputs": [
    {
     "data": {
      "text/plain": [
       "{'normalize': True, 'n_jobs': -1, 'fit_intercept': True, 'copy_X': True}"
      ]
     },
     "execution_count": 20,
     "metadata": {},
     "output_type": "execute_result"
    }
   ],
   "source": [
    "lr_rand.best_params_"
   ]
  },
  {
   "cell_type": "markdown",
   "id": "simplified-israel",
   "metadata": {},
   "source": [
    "Another representation of the final model: \n",
    "- LinearRegression(copy_X=True,                   fit_intercept=True, n_jobs=-1, normalize=True, positive=False)\n"
   ]
  },
  {
   "cell_type": "markdown",
   "id": "continuous-olympus",
   "metadata": {},
   "source": [
    "I then wanted to explore feature importance in the model:"
   ]
  },
  {
   "cell_type": "code",
   "execution_count": 21,
   "id": "chief-enforcement",
   "metadata": {},
   "outputs": [
    {
     "name": "stdout",
     "output_type": "stream",
     "text": [
      "SPORT_CODE 0.328 +/- 0.025\n",
      "FOURYEAR_ELIGIBILITY 0.256 +/- 0.017\n",
      "NCAA_CONFERENCE 0.085 +/- 0.010\n",
      "SCHOOL_TYPE 0.018 +/- 0.004\n",
      "NCAA_SUBDIVISION 0.010 +/- 0.003\n",
      "NCAA_DIVISION 0.002 +/- 0.001\n"
     ]
    }
   ],
   "source": [
    "def pretty_print(r):\n",
    "    for i in r.importances_mean.argsort()[::-1]:\n",
    "        print(f\"{train.columns[i]}\",\n",
    "            f\"{r.importances_mean[i]:.3f}\"\n",
    "            f\" +/- {r.importances_std[i]:.3f}\")\n",
    "\n",
    "r = permutation_importance(pipe_lr, X_validation, y_validation,\n",
    "                            n_repeats=30,\n",
    "                            random_state=0)\n",
    "pretty_print(r)"
   ]
  },
  {
   "cell_type": "markdown",
   "id": "atlantic-friend",
   "metadata": {},
   "source": [
    "Plot feature importance for model interpretation:"
   ]
  },
  {
   "cell_type": "code",
   "execution_count": 22,
   "id": "adaptive-symposium",
   "metadata": {},
   "outputs": [
    {
     "data": {
      "image/png": "[encoded data removed]",
      "text/plain": [
       "<Figure size 432x288 with 1 Axes>"
      ]
     },
     "metadata": {
      "needs_background": "light"
     },
     "output_type": "display_data"
    }
   ],
   "source": [
    "for_plot = pd.DataFrame(dict(zip(train.columns, r.importances_mean)), index=range(1)).T\n",
    "\n",
    "for_plot = for_plot.sort_values(0).T\n",
    "\n",
    "plt.barh(for_plot.columns, for_plot.iloc[0])\n",
    "plt.xlabel('Permutation Feature Importance')\n",
    "plt.title('Feature Importanced in Final Model')\n",
    "plt.show()"
   ]
  },
  {
   "cell_type": "markdown",
   "id": "advanced-spray",
   "metadata": {},
   "source": [
    "Save final model for deployment."
   ]
  },
  {
   "cell_type": "code",
   "execution_count": 23,
   "id": "three-diving",
   "metadata": {},
   "outputs": [
    {
     "data": {
      "text/plain": [
       "['lin_mod']"
      ]
     },
     "execution_count": 23,
     "metadata": {},
     "output_type": "execute_result"
    }
   ],
   "source": [
    "joblib.dump(pipe_lr, 'lin_mod')"
   ]
  },
  {
   "cell_type": "markdown",
   "id": "committed-question",
   "metadata": {},
   "source": [
    "# Try our model on Test Data"
   ]
  },
  {
   "cell_type": "code",
   "execution_count": 24,
   "id": "quick-facing",
   "metadata": {},
   "outputs": [],
   "source": [
    "X_test = test[['SCHOOL_TYPE',\n",
    "       'SPORT_CODE', 'NCAA_DIVISION', 'NCAA_SUBDIVISION',\n",
    "       'NCAA_CONFERENCE', \n",
    "       'FOURYEAR_ELIGIBILITY']]\n",
    "y_test = test['FOURYEAR_RETENTION']"
   ]
  },
  {
   "cell_type": "markdown",
   "id": "operational-russian",
   "metadata": {},
   "source": [
    "# Test Metrics"
   ]
  },
  {
   "cell_type": "code",
   "execution_count": 25,
   "id": "scenic-sitting",
   "metadata": {},
   "outputs": [
    {
     "name": "stdout",
     "output_type": "stream",
     "text": [
      "MAE 0.01353597027371268\n",
      "MSE 0.00034304111152053785\n"
     ]
    }
   ],
   "source": [
    "test_y_lr = pipe_lr.predict(X_test)\n",
    "print('MAE', mean_absolute_error(test_y_lr, y_test))\n",
    "print('MSE', mean_squared_error(test_y_lr, y_test))"
   ]
  },
  {
   "cell_type": "markdown",
   "id": "lesbian-peripheral",
   "metadata": {},
   "source": [
    "Since the final model preforms quite similarly on the test set as the validation set, we can assume it will generalize well. Having an MAE of ~.0136 is telling us that on average, the model is off of it's prediction of retention rate by .0136 which considering the scale is from 0 to 1 makes this model useful. This work is useful as we have not only provided a model that can predict four year retention rates, but we have also provided inference on the model. Knowing that sport code and four year eligibility are the most important features of the model gives the NCAA a place to start looking into the reasons for the recent increase in transfer rates. Future work on this model would include receiving feedback from the NCAA and collecting new features that could further improve the model, such as school's academic rating."
   ]
  },
  {
   "cell_type": "markdown",
   "id": "interracial-hungarian",
   "metadata": {},
   "source": [
    "# Summary"
   ]
  },
  {
   "cell_type": "markdown",
   "id": "heard-society",
   "metadata": {},
   "source": [
    "In this project, I began with some EDA and discovered that the dataset encoded missing values with -99. I went back through the data and replaced those values with nan. However, I wanted to create a missing category in the NCAA subdivision feature as I thought the fact is was missing could be important so I replaced those values with the word 'Missing'. From there I fit 6 models with their default hyperparameters and reported their MAE and MSE so I could choose two final models to tune and fit. This returned Linear Regression and Random Forrest Regressor as my models. From there, I used a random cv search across hyperparameters to find the best model for each algorithm. I then chose linear regression as my final model as it outperformed the random forest regressor. The final model was then tested on the test data set to see if this model is generalizable and to make sure the model did not overfit to the training data. We found that the model preformed quite well on the test dataset. I finally looked at feature importance of the final model so that I could provide some model interpretation to the NCAA. I then wrote a python script for a deployment that takes a text file with the needed features and outputs a HTML file with the predicted retention rate and how that score compares to other scores. "
   ]
  },
  {
   "cell_type": "code",
   "execution_count": null,
   "id": "maritime-intake",
   "metadata": {},
   "outputs": [],
   "source": []
  }
 ],
 "metadata": {
  "kernelspec": {
   "display_name": "Python 3",
   "language": "python",
   "name": "python3"
  },
  "language_info": {
   "codemirror_mode": {
    "name": "ipython",
    "version": 3
   },
   "file_extension": ".py",
   "mimetype": "text/x-python",
   "name": "python",
   "nbconvert_exporter": "python",
   "pygments_lexer": "ipython3",
   "version": "3.8.3"
  }
 },
 "nbformat": 4,
 "nbformat_minor": 5
}
